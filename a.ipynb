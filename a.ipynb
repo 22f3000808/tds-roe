{
 "cells": [
  {
   "cell_type": "markdown",
   "id": "0ebf00c3",
   "metadata": {},
   "source": [
    "#Nov ROE 1 Question"
   ]
  },
  {
   "cell_type": "code",
   "execution_count": 3,
   "id": "f400f2c7",
   "metadata": {},
   "outputs": [],
   "source": [
    "import pandas as pd\n",
    "import numpy as np\n",
    "\n",
    "# pd.read_html(\"/*.html\")"
   ]
  },
  {
   "cell_type": "markdown",
   "id": "f668283f",
   "metadata": {},
   "source": [
    "# Question 1"
   ]
  },
  {
   "cell_type": "code",
   "execution_count": null,
   "id": "77235385",
   "metadata": {},
   "outputs": [],
   "source": [
    "import pandas as pd \n",
    "import glob\n",
    "import os\n",
    "\n",
    "folder_path = \"\"\n",
    "html_files = glob.glob(os.path.join(folder_path, \"*.html\"))\n",
    "html_files"
   ]
  },
  {
   "cell_type": "code",
   "execution_count": null,
   "id": "0b7f9cd9",
   "metadata": {},
   "outputs": [],
   "source": [
    "all_html_dfs = []\n",
    "for html_file in html_files:\n",
    "    df = pd.read_html(html_file)\n",
    "    all_html_dfs.extend(df) # combine all dfs\n",
    "\n",
    "# all_html_dict = {}\n",
    "# for df in all_html_dfs:\n",
    "#     html_dict = df.to_dict(orient=\"records\")\n",
    "#     all_html_dict.extend([html_dict])\n",
    "\n",
    "all_html_combined_df = pd.concat(all_html_dfs, ignore_index=True)\n",
    "# all_html_combined_dict = all_html_combined_df.to_dict(orient=\"records\")\n",
    "# all_html_combined_df"
   ]
  },
  {
   "cell_type": "code",
   "execution_count": null,
   "id": "950340c1",
   "metadata": {},
   "outputs": [],
   "source": [
    "[type(df) for df in all_html_dfs]"
   ]
  },
  {
   "cell_type": "code",
   "execution_count": null,
   "id": "1c6fb793",
   "metadata": {},
   "outputs": [],
   "source": [
    "type_gold_only = all_html_combined_df[all_html_combined_df[\"Type\"].str.strip().str.lower() == \"gold\"]\n",
    "type_gold_only"
   ]
  },
  {
   "cell_type": "code",
   "execution_count": null,
   "id": "63ee0e38",
   "metadata": {},
   "outputs": [],
   "source": [
    "type_gold_only['Sales'] = type_gold_only['Price'] * type_gold_only['Quantity']\n",
    "type_gold_only['Sales'].sum()"
   ]
  },
  {
   "cell_type": "markdown",
   "id": "d19741be",
   "metadata": {},
   "source": [
    "# Questioin 2"
   ]
  },
  {
   "cell_type": "code",
   "execution_count": null,
   "id": "fc8ece90",
   "metadata": {},
   "outputs": [],
   "source": [
    "import pandas as pd\n",
    "import glob\n",
    "import os\n",
    " \n",
    "student_df = pd.read_csv(\"student.csv\")\n",
    "subject_df = pd.read_csv(\"subject.csv\")\n",
    "\n",
    "student_df.head(), subject_df.head()"
   ]
  },
  {
   "cell_type": "code",
   "execution_count": null,
   "id": "cb745172",
   "metadata": {},
   "outputs": [],
   "source": [
    "mearged_df = pd.merge(student_df, subject_df, on=\"student_id\")\n",
    "mearged_df"
   ]
  },
  {
   "cell_type": "code",
   "execution_count": null,
   "id": "614c3500",
   "metadata": {},
   "outputs": [],
   "source": [
    "subject_per_class = mearged_df.groupby(\"class\")[\"subject\"].unique().reset_index()\n",
    "subject_per_class.sort_values(by='subject', assending=True)"
   ]
  },
  {
   "cell_type": "markdown",
   "id": "cb924f85",
   "metadata": {},
   "source": [
    "#  Question 3 \n",
    "it is available on web it self you have to manipulate that on web"
   ]
  },
  {
   "cell_type": "markdown",
   "id": "b60d443d",
   "metadata": {},
   "source": [
    "# Question 4"
   ]
  },
  {
   "cell_type": "code",
   "execution_count": null,
   "id": "2d0102bf",
   "metadata": {},
   "outputs": [],
   "source": [
    "import networkx as nx\n",
    "from haversine import haversine, unit\n",
    "import pandas as pd"
   ]
  },
  {
   "cell_type": "code",
   "execution_count": null,
   "id": "dcd453c0",
   "metadata": {},
   "outputs": [],
   "source": [
    "from_to_df = pd.read_csv(\"from_to.csv\")\n",
    "city_11_df = pd.read_csv(\"city_11.csv\")\n",
    "\n",
    "from_to_dict = from_to_df.to_dict(orient=\"index\")\n",
    "# city_11_dict = city_11_df.to_dict(orient=\"records\")\n",
    "# city_11_dict"
   ]
  },
  {
   "cell_type": "code",
   "execution_count": null,
   "id": "bec33755",
   "metadata": {},
   "outputs": [],
   "source": [
    "load_coordinates = city_11_df.set_index('City')[['Latitude', 'Longitude']].to_dict(orient='index')\n",
    "load_coordinates"
   ]
  },
  {
   "cell_type": "code",
   "execution_count": null,
   "id": "660f19d1",
   "metadata": {},
   "outputs": [],
   "source": [
    "G = nx.Graph()\n",
    "\n",
    "for city in load_coordinates.keys():\n",
    "    G.add_node(city)\n",
    "    \n",
    "for k, v in from_to_dict.items():\n",
    "    from_city = v['From']\n",
    "    to_city = v['To']\n",
    "\n",
    "    coord1 = load_coordinates[from_city]\n",
    "    coord2 = load_coordinates[to_city]\n",
    "\n",
    "    distance = haversine((coord1['Latitude'], coord1['Longitude']), (coord2['Latitude'], coord2['Longitude']), unit=unit.KILOMETERS)\n",
    "\n",
    "    G.add_edge(from_city, to_city, weight=distance)"
   ]
  },
  {
   "cell_type": "code",
   "execution_count": null,
   "id": "cbd33450",
   "metadata": {},
   "outputs": [],
   "source": [
    "graph = G\n",
    "start = 'Almaty'\n",
    "ebd = 'Barcelona'\n",
    "\n",
    "path = nx.shortest_path(graph, start, ebd, weight='weight')\n",
    "total_distance = nx.shortest_path_length(graph, start, ebd, weight='weight')\n",
    "\n",
    "path, total_distance"
   ]
  },
  {
   "cell_type": "markdown",
   "id": "be71d023",
   "metadata": {},
   "source": [
    "# Question 6"
   ]
  },
  {
   "cell_type": "code",
   "execution_count": null,
   "id": "de92c52e",
   "metadata": {},
   "outputs": [],
   "source": [
    "import pandas as pd\n",
    "import glob\n",
    "import os\n",
    "\n",
    "df = pd.read_json(\"/*.json\")\n",
    "df.head()\n",
    "\n",
    "df['A'].corr(df['B'])"
   ]
  },
  {
   "cell_type": "markdown",
   "id": "f16d2e69",
   "metadata": {},
   "source": [
    "# Question 7"
   ]
  },
  {
   "cell_type": "raw",
   "id": "8af5e12d",
   "metadata": {
    "vscode": {
     "languageId": "raw"
    }
   },
   "source": [
    "SELECT \n",
    " date_part('hour', CAST(timestamp AS TIMESTAMP)) AS hour,\n",
    " ROUND(SUM(CASE WHEN category = 'Clothing' THEN amount ELSE 0 ENDA)) AS\n",
    " \"Clothing\",\n",
    " ROUND(SUM(CASE WHEN category = 'Home Goods' THEN amount ELSE 0 ENDA)) AS\n",
    " \"Home Goods\",\n",
    " ROUND(SUM(CASE WHEN category = 'Electronics' THEN amount ELSE 0 ENDA)) AS\n",
    " \"Electronics\"\n",
    "FROM sales\n",
    "GROUP BY hour\n",
    "ORDER BY hour;"
   ]
  }
 ],
 "metadata": {
  "kernelspec": {
   "display_name": "roe",
   "language": "python",
   "name": "python3"
  },
  "language_info": {
   "codemirror_mode": {
    "name": "ipython",
    "version": 3
   },
   "file_extension": ".py",
   "mimetype": "text/x-python",
   "name": "python",
   "nbconvert_exporter": "python",
   "pygments_lexer": "ipython3",
   "version": "3.12.3"
  }
 },
 "nbformat": 4,
 "nbformat_minor": 5
}
